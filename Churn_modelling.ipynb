{
 "cells": [
  {
   "cell_type": "code",
   "execution_count": 1,
   "id": "68b65568",
   "metadata": {},
   "outputs": [],
   "source": [
    "import numpy as np\n",
    "import pandas as pd\n",
    "import os\n",
    "import matplotlib.pyplot as plt\n",
    "import matplotlib.ticker as mtick\n",
    "import seaborn as sns\n",
    "%matplotlib inline"
   ]
  },
  {
   "cell_type": "code",
   "execution_count": 2,
   "id": "91941b66",
   "metadata": {},
   "outputs": [],
   "source": [
    "train = pd.read_csv('final_train_data.csv')\n",
    "test = pd.read_csv('final_test_data.csv')"
   ]
  },
  {
   "cell_type": "code",
   "execution_count": 3,
   "id": "0577d72a",
   "metadata": {},
   "outputs": [
    {
     "name": "stdout",
     "output_type": "stream",
     "text": [
      "(3333, 66)\n",
      "(1667, 66)\n"
     ]
    }
   ],
   "source": [
    "print(train.shape)\n",
    "print(test.shape)"
   ]
  },
  {
   "cell_type": "markdown",
   "id": "185c39dd",
   "metadata": {},
   "source": [
    "# Modeling and Performance"
   ]
  },
  {
   "cell_type": "code",
   "execution_count": 4,
   "id": "c55e9779",
   "metadata": {},
   "outputs": [],
   "source": [
    "#train X and Y splitting\n",
    "X_train = train.drop('churn_num', axis = 1)\n",
    "Y_train = train['churn_num']\n",
    "\n",
    "#Test X ad Y splitting\n",
    "X_test = test.drop('churn_num', axis = 1)\n",
    "Y_test = test['churn_num']\n"
   ]
  },
  {
   "cell_type": "code",
   "execution_count": 5,
   "id": "322b6219",
   "metadata": {},
   "outputs": [],
   "source": [
    "from sklearn.linear_model import LogisticRegression\n",
    "from sklearn.model_selection import GridSearchCV\n",
    "from sklearn.ensemble import GradientBoostingClassifier"
   ]
  },
  {
   "cell_type": "markdown",
   "id": "78c99310",
   "metadata": {},
   "source": [
    "### Logistic Regression"
   ]
  },
  {
   "cell_type": "code",
   "execution_count": 6,
   "id": "6e94e20f",
   "metadata": {},
   "outputs": [],
   "source": [
    "lr = LogisticRegression(random_state=44, solver='liblinear')\n",
    "param_gridd = {'penalty' : ['l1', 'l2'], 'C' : [0.1, 1, 2, 3, 5]}\n",
    "CV_lr = GridSearchCV(estimator=lr, param_grid=param_gridd, cv=5)\n",
    "CV_lr.fit(X_train, Y_train)\n",
    "lr_best = CV_lr.best_estimator_"
   ]
  },
  {
   "cell_type": "code",
   "execution_count": 7,
   "id": "bd2baaa6",
   "metadata": {},
   "outputs": [
    {
     "data": {
      "text/plain": [
       "LogisticRegression(C=3, penalty='l1', random_state=44, solver='liblinear')"
      ]
     },
     "execution_count": 7,
     "metadata": {},
     "output_type": "execute_result"
    }
   ],
   "source": [
    "lr_best"
   ]
  },
  {
   "cell_type": "code",
   "execution_count": 8,
   "id": "9b1cb3e5",
   "metadata": {},
   "outputs": [
    {
     "data": {
      "text/plain": [
       "count    1667.000000\n",
       "mean        0.146747\n",
       "std         0.170207\n",
       "min         0.001241\n",
       "25%         0.036857\n",
       "50%         0.079415\n",
       "75%         0.189093\n",
       "max         0.988504\n",
       "dtype: float64"
      ]
     },
     "execution_count": 8,
     "metadata": {},
     "output_type": "execute_result"
    }
   ],
   "source": [
    "'''The function predict_proba() returns a numpy array of two columns. \n",
    "The first column is the probability that target=0 and the second column is the probability that target=1'''\n",
    "test_score_lr = lr_best.predict_proba(X_test)[:, 1]\n",
    "pd.Series(test_score_lr).describe()"
   ]
  },
  {
   "cell_type": "code",
   "execution_count": 9,
   "id": "9dca1db2",
   "metadata": {},
   "outputs": [],
   "source": [
    "from sklearn.metrics import classification_report"
   ]
  },
  {
   "cell_type": "code",
   "execution_count": 10,
   "id": "d681c4a9",
   "metadata": {},
   "outputs": [
    {
     "name": "stdout",
     "output_type": "stream",
     "text": [
      "              precision    recall  f1-score   support\n",
      "\n",
      "           0       0.89      0.97      0.93      1443\n",
      "           1       0.56      0.23      0.33       224\n",
      "\n",
      "    accuracy                           0.87      1667\n",
      "   macro avg       0.72      0.60      0.63      1667\n",
      "weighted avg       0.85      0.87      0.85      1667\n",
      "\n"
     ]
    }
   ],
   "source": [
    "print(classification_report(Y_test, (test_score_lr >= 0.5)))"
   ]
  },
  {
   "cell_type": "code",
   "execution_count": null,
   "id": "b38ca06d",
   "metadata": {},
   "outputs": [],
   "source": []
  },
  {
   "cell_type": "markdown",
   "id": "c27700bb",
   "metadata": {},
   "source": [
    "### Gradient Bossting Classifier"
   ]
  },
  {
   "cell_type": "code",
   "execution_count": 11,
   "id": "67a11801",
   "metadata": {},
   "outputs": [
    {
     "name": "stdout",
     "output_type": "stream",
     "text": [
      "GradientBoostingClassifier(learning_rate=0.05, max_features='auto',\n",
      "                           n_estimators=500, random_state=42)\n"
     ]
    }
   ],
   "source": [
    "gbc = GradientBoostingClassifier(random_state=42)\n",
    "param_grid_gbc = {'n_estimators' : [50, 100, 500], 'max_features' : ['auto'], 'learning_rate' : [0.01, 0.05, 0.1, 0.2]}\n",
    "CV_gbc = GridSearchCV(estimator=gbc, param_grid=param_grid_gbc, cv=5)\n",
    "CV_gbc.fit(X_train, Y_train)\n",
    "\n",
    "gbc_best = CV_gbc.best_estimator_\n",
    "print(gbc_best)"
   ]
  },
  {
   "cell_type": "code",
   "execution_count": 12,
   "id": "a67ec9bd",
   "metadata": {},
   "outputs": [
    {
     "data": {
      "text/plain": [
       "count    1667.000000\n",
       "mean        0.129066\n",
       "std         0.261440\n",
       "min         0.000514\n",
       "50%         0.024422\n",
       "75%         0.053640\n",
       "90%         0.562020\n",
       "95%         0.923120\n",
       "max         0.999998\n",
       "dtype: float64"
      ]
     },
     "execution_count": 12,
     "metadata": {},
     "output_type": "execute_result"
    }
   ],
   "source": [
    "test_score_gbc = gbc_best.predict_proba(X_test)[:,1]\n",
    "pd.Series(test_score_gbc).describe(percentiles = [.75,.90,.95])"
   ]
  },
  {
   "cell_type": "code",
   "execution_count": 13,
   "id": "bf2a2f1e",
   "metadata": {},
   "outputs": [
    {
     "name": "stdout",
     "output_type": "stream",
     "text": [
      "              precision    recall  f1-score   support\n",
      "\n",
      "           0       0.96      0.99      0.97      1443\n",
      "           1       0.93      0.72      0.81       224\n",
      "\n",
      "    accuracy                           0.95      1667\n",
      "   macro avg       0.94      0.85      0.89      1667\n",
      "weighted avg       0.95      0.95      0.95      1667\n",
      "\n"
     ]
    }
   ],
   "source": [
    "print(classification_report(Y_test, (test_score_gbc >= 0.5)))"
   ]
  },
  {
   "cell_type": "markdown",
   "id": "e21d3348",
   "metadata": {},
   "source": [
    "#### Performance Comparison of models"
   ]
  },
  {
   "cell_type": "code",
   "execution_count": 14,
   "id": "7e5cd749",
   "metadata": {},
   "outputs": [],
   "source": [
    "from sklearn.metrics import auc, average_precision_score, f1_score, confusion_matrix, roc_auc_score, accuracy_score, log_loss, roc_curve, precision_recall_curve"
   ]
  },
  {
   "cell_type": "code",
   "execution_count": 15,
   "id": "74ccb554",
   "metadata": {},
   "outputs": [
    {
     "name": "stdout",
     "output_type": "stream",
     "text": [
      "Area Under the ROC Curve from prediction scores: 83.37%\n",
      "Average precision (AP) from prediction scores: 46.13%\n"
     ]
    }
   ],
   "source": [
    "#Area Under ROC and PR curves for LR model\n",
    "roc_auc_lr = roc_auc_score(Y_test, test_score_lr, average = 'macro')\n",
    "avg_pre_lr = average_precision_score(Y_test, test_score_lr)\n",
    "print(\"Area Under the ROC Curve from prediction scores: \"+ str(round(roc_auc_lr*100, 2))+'%')\n",
    "print(\"Average precision (AP) from prediction scores: \"+ str(round(avg_pre_lr*100, 2)) + '%')"
   ]
  },
  {
   "cell_type": "code",
   "execution_count": 16,
   "id": "7d16b8da",
   "metadata": {},
   "outputs": [
    {
     "name": "stdout",
     "output_type": "stream",
     "text": [
      "Area Under the ROC Curve from prediction scores: 92.16%\n",
      "Average precision (AP) from prediction scores: 85.05%\n"
     ]
    }
   ],
   "source": [
    "#Area Under ROC and average Precision score for GBC model\n",
    "roc_auc_gbc= roc_auc_score(Y_test, test_score_gbc, average='macro')\n",
    "avg_pre_gbc = average_precision_score(Y_test, test_score_gbc)\n",
    "print(\"Area Under the ROC Curve from prediction scores: \"+ str(round(roc_auc_gbc*100, 2))+'%')\n",
    "print(\"Average precision (AP) from prediction scores: \"+ str(round(avg_pre_gbc*100, 2)) + '%')"
   ]
  },
  {
   "cell_type": "markdown",
   "id": "5321e713",
   "metadata": {},
   "source": [
    "#### ROC curve Between GBC model and LR model"
   ]
  },
  {
   "cell_type": "code",
   "execution_count": 17,
   "id": "24d24c22",
   "metadata": {},
   "outputs": [
    {
     "data": {
      "image/png": "[encoded data removed]",
      "text/plain": [
       "<Figure size 576x432 with 1 Axes>"
      ]
     },
     "metadata": {
      "needs_background": "light"
     },
     "output_type": "display_data"
    }
   ],
   "source": [
    "plt.figure(figsize=(8,6))\n",
    "fpr_lr, tpr_lr, _ = roc_curve(Y_test, test_score_lr)\n",
    "plt.plot(fpr_lr, tpr_lr, label = 'LR')\n",
    "\n",
    "fpr_gbc, tpr_gbc, _ = roc_curve(Y_test, test_score_gbc)\n",
    "plt.plot(fpr_gbc, tpr_gbc, label = 'GBC')\n",
    "\n",
    "plt.title('ROC Curve')\n",
    "plt.xlabel('False Positive Rate'); plt.ylabel(\"True Positive Rate\")\n",
    "plt.legend(loc = 'lower right')\n",
    "plt.show()"
   ]
  },
  {
   "cell_type": "markdown",
   "id": "1f622a86",
   "metadata": {},
   "source": [
    "#### PR curve Between GBC model and LR model"
   ]
  },
  {
   "cell_type": "code",
   "execution_count": 18,
   "id": "1e9e969b",
   "metadata": {},
   "outputs": [
    {
     "data": {
      "image/png": "[encoded data removed]",
      "text/plain": [
       "<Figure size 576x432 with 1 Axes>"
      ]
     },
     "metadata": {
      "needs_background": "light"
     },
     "output_type": "display_data"
    }
   ],
   "source": [
    "plt.figure(figsize=(8,6))\n",
    "precision_gbc, recall_gbc, _ =precision_recall_curve(Y_test, test_score_gbc)\n",
    "plt.plot(recall_gbc, precision_gbc, label ='GBC')\n",
    "precision_lr, recall_lr, _ =precision_recall_curve(Y_test, test_score_lr)\n",
    "plt.plot(recall_lr, precision_lr, label ='LR')\n",
    "plt.xlabel('Recall'); \n",
    "plt.ylabel('Precision')\n",
    "plt.title('Precision Recall curve')\n",
    "plt.legend()\n",
    "plt.show()"
   ]
  },
  {
   "cell_type": "markdown",
   "id": "ac9056ab",
   "metadata": {},
   "source": [
    "#### Confusion Matrix for GBC Model"
   ]
  },
  {
   "cell_type": "code",
   "execution_count": 19,
   "id": "f321ccd7",
   "metadata": {},
   "outputs": [
    {
     "data": {
      "text/plain": [
       "[Text(0, 0.5, 'retained'), Text(0, 1.5, 'churned')]"
      ]
     },
     "execution_count": 19,
     "metadata": {},
     "output_type": "execute_result"
    },
    {
     "data": {
      "image/png": "[encoded data removed]",
      "text/plain": [
       "<Figure size 432x288 with 2 Axes>"
      ]
     },
     "metadata": {
      "needs_background": "light"
     },
     "output_type": "display_data"
    }
   ],
   "source": [
    "cm = confusion_matrix(Y_test, (test_score_gbc>=0.5))\n",
    "ax = plt.subplot()\n",
    "sns.heatmap(cm, annot= True, ax= ax, fmt= 'g')\n",
    "ax.set_xlabel('Predicted labels'); ax.set_ylabel('True labels')\n",
    "ax.set_title('Confusion Matrix')\n",
    "ax.xaxis.set_ticklabels(['retained', 'churned'])\n",
    "ax.yaxis.set_ticklabels(['retained', 'churned'])"
   ]
  },
  {
   "cell_type": "markdown",
   "id": "bf970d76",
   "metadata": {},
   "source": [
    "**Other Method**"
   ]
  },
  {
   "cell_type": "code",
   "execution_count": 20,
   "id": "65d57790",
   "metadata": {},
   "outputs": [
    {
     "data": {
      "image/png": "[encoded data removed]",
      "text/plain": [
       "<Figure size 432x288 with 2 Axes>"
      ]
     },
     "metadata": {
      "needs_background": "light"
     },
     "output_type": "display_data"
    }
   ],
   "source": [
    "from sklearn.metrics import ConfusionMatrixDisplay\n",
    "cm = confusion_matrix(Y_test, (test_score_gbc>=0.5), labels=gbc_best.classes_)\n",
    "disp = ConfusionMatrixDisplay(confusion_matrix=cm,\n",
    "                              display_labels=gbc_best.classes_)\n",
    "disp.plot()\n",
    "\n",
    "plt.show()"
   ]
  },
  {
   "cell_type": "markdown",
   "id": "47516088",
   "metadata": {},
   "source": [
    "**Looking at accuracy Score of both the models**"
   ]
  },
  {
   "cell_type": "code",
   "execution_count": 21,
   "id": "8eef6e5f",
   "metadata": {},
   "outputs": [
    {
     "name": "stdout",
     "output_type": "stream",
     "text": [
      "0.8722255548890222\n",
      "0.9544091181763648\n"
     ]
    }
   ],
   "source": [
    "print(accuracy_score(Y_test, (test_score_lr >= 0.5), normalize=True))\n",
    "print(accuracy_score(Y_test, (test_score_gbc >= 0.5), normalize=True))"
   ]
  },
  {
   "cell_type": "markdown",
   "id": "2b10a9c9",
   "metadata": {},
   "source": [
    "#### Selecting top 10% of the data"
   ]
  },
  {
   "cell_type": "code",
   "execution_count": 22,
   "id": "7aed328a",
   "metadata": {},
   "outputs": [
    {
     "name": "stdout",
     "output_type": "stream",
     "text": [
      "      model_score  churn_num\n",
      "857      0.999998          1\n",
      "1143     0.999632          1\n",
      "153      0.999390          1\n",
      "1591     0.998999          1\n",
      "660      0.998696          1\n",
      "1626     0.998550          1\n",
      "633      0.997440          1\n",
      "1581     0.997045          1\n",
      "109      0.996817          1\n",
      "1610     0.996406          1\n",
      "****************************************\n",
      "1    157\n",
      "0     10\n",
      "Name: churn_num, dtype: int64\n"
     ]
    }
   ],
   "source": [
    "get_top10 = pd.concat([pd.Series(test_score_gbc, name='model_score'), Y_test], axis = 1)\n",
    "get_top10 = get_top10.sort_values(by = 'model_score', ascending=False)\n",
    "print(get_top10.head(10))\n",
    "print('*'*40)\n",
    "print(get_top10.head(round(get_top10.shape[0]*0.1))['churn_num'].value_counts())"
   ]
  },
  {
   "cell_type": "markdown",
   "id": "cf72e5a7",
   "metadata": {},
   "source": [
    "#### Function to get the Feature Importance"
   ]
  },
  {
   "cell_type": "code",
   "execution_count": 23,
   "id": "7e46aece",
   "metadata": {},
   "outputs": [],
   "source": [
    "def get_FI(modelname, dfname):\n",
    "    importance_list = pd.DataFrame(modelname.feature_importances_, columns=['importance'])\n",
    "    varnames_list = pd.DataFrame(dfname.columns.tolist(), columns=['feature'])\n",
    "    feature_importance = pd.concat([varnames_list, importance_list], axis=1, join='inner')\n",
    "    feature_importance = feature_importance.sort_values(by=['importance'], ascending=False)\n",
    "    feature_importance['cum_importance'] = feature_importance['importance'].cumsum()\n",
    "    return feature_importance"
   ]
  },
  {
   "cell_type": "code",
   "execution_count": 24,
   "id": "2a7fe961",
   "metadata": {},
   "outputs": [
    {
     "data": {
      "text/html": [
       "<div>\n",
       "<style scoped>\n",
       "    .dataframe tbody tr th:only-of-type {\n",
       "        vertical-align: middle;\n",
       "    }\n",
       "\n",
       "    .dataframe tbody tr th {\n",
       "        vertical-align: top;\n",
       "    }\n",
       "\n",
       "    .dataframe thead th {\n",
       "        text-align: right;\n",
       "    }\n",
       "</style>\n",
       "<table border=\"1\" class=\"dataframe\">\n",
       "  <thead>\n",
       "    <tr style=\"text-align: right;\">\n",
       "      <th></th>\n",
       "      <th>feature</th>\n",
       "      <th>importance</th>\n",
       "      <th>cum_importance</th>\n",
       "    </tr>\n",
       "  </thead>\n",
       "  <tbody>\n",
       "    <tr>\n",
       "      <th>7</th>\n",
       "      <td>total_night_calls</td>\n",
       "      <td>6.173101e-03</td>\n",
       "      <td>0.966616</td>\n",
       "    </tr>\n",
       "    <tr>\n",
       "      <th>5</th>\n",
       "      <td>total_eve_calls</td>\n",
       "      <td>5.361931e-03</td>\n",
       "      <td>0.971978</td>\n",
       "    </tr>\n",
       "    <tr>\n",
       "      <th>0</th>\n",
       "      <td>account_length</td>\n",
       "      <td>5.186791e-03</td>\n",
       "      <td>0.977165</td>\n",
       "    </tr>\n",
       "    <tr>\n",
       "      <th>43</th>\n",
       "      <td>state_NJ</td>\n",
       "      <td>2.070559e-03</td>\n",
       "      <td>0.979236</td>\n",
       "    </tr>\n",
       "    <tr>\n",
       "      <th>31</th>\n",
       "      <td>state_MA</td>\n",
       "      <td>1.884425e-03</td>\n",
       "      <td>0.981120</td>\n",
       "    </tr>\n",
       "    <tr>\n",
       "      <th>49</th>\n",
       "      <td>state_OR</td>\n",
       "      <td>1.813565e-03</td>\n",
       "      <td>0.982934</td>\n",
       "    </tr>\n",
       "    <tr>\n",
       "      <th>46</th>\n",
       "      <td>state_NY</td>\n",
       "      <td>1.803572e-03</td>\n",
       "      <td>0.984737</td>\n",
       "    </tr>\n",
       "    <tr>\n",
       "      <th>41</th>\n",
       "      <td>state_NE</td>\n",
       "      <td>1.153850e-03</td>\n",
       "      <td>0.985891</td>\n",
       "    </tr>\n",
       "    <tr>\n",
       "      <th>14</th>\n",
       "      <td>state_AR</td>\n",
       "      <td>1.078706e-03</td>\n",
       "      <td>0.986970</td>\n",
       "    </tr>\n",
       "    <tr>\n",
       "      <th>55</th>\n",
       "      <td>state_TX</td>\n",
       "      <td>1.017691e-03</td>\n",
       "      <td>0.987987</td>\n",
       "    </tr>\n",
       "    <tr>\n",
       "      <th>52</th>\n",
       "      <td>state_SC</td>\n",
       "      <td>8.328245e-04</td>\n",
       "      <td>0.988820</td>\n",
       "    </tr>\n",
       "    <tr>\n",
       "      <th>23</th>\n",
       "      <td>state_HI</td>\n",
       "      <td>7.474152e-04</td>\n",
       "      <td>0.989568</td>\n",
       "    </tr>\n",
       "    <tr>\n",
       "      <th>19</th>\n",
       "      <td>state_DC</td>\n",
       "      <td>7.081663e-04</td>\n",
       "      <td>0.990276</td>\n",
       "    </tr>\n",
       "    <tr>\n",
       "      <th>39</th>\n",
       "      <td>state_NC</td>\n",
       "      <td>6.099862e-04</td>\n",
       "      <td>0.990886</td>\n",
       "    </tr>\n",
       "    <tr>\n",
       "      <th>34</th>\n",
       "      <td>state_MI</td>\n",
       "      <td>5.926686e-04</td>\n",
       "      <td>0.991478</td>\n",
       "    </tr>\n",
       "    <tr>\n",
       "      <th>42</th>\n",
       "      <td>state_NH</td>\n",
       "      <td>5.912931e-04</td>\n",
       "      <td>0.992070</td>\n",
       "    </tr>\n",
       "    <tr>\n",
       "      <th>63</th>\n",
       "      <td>area_code_area_code_415</td>\n",
       "      <td>5.860204e-04</td>\n",
       "      <td>0.992656</td>\n",
       "    </tr>\n",
       "    <tr>\n",
       "      <th>27</th>\n",
       "      <td>state_IN</td>\n",
       "      <td>5.775348e-04</td>\n",
       "      <td>0.993233</td>\n",
       "    </tr>\n",
       "    <tr>\n",
       "      <th>53</th>\n",
       "      <td>state_SD</td>\n",
       "      <td>5.491461e-04</td>\n",
       "      <td>0.993782</td>\n",
       "    </tr>\n",
       "    <tr>\n",
       "      <th>33</th>\n",
       "      <td>state_ME</td>\n",
       "      <td>5.468158e-04</td>\n",
       "      <td>0.994329</td>\n",
       "    </tr>\n",
       "    <tr>\n",
       "      <th>51</th>\n",
       "      <td>state_RI</td>\n",
       "      <td>5.355732e-04</td>\n",
       "      <td>0.994865</td>\n",
       "    </tr>\n",
       "    <tr>\n",
       "      <th>64</th>\n",
       "      <td>area_code_area_code_510</td>\n",
       "      <td>5.330188e-04</td>\n",
       "      <td>0.995398</td>\n",
       "    </tr>\n",
       "    <tr>\n",
       "      <th>26</th>\n",
       "      <td>state_IL</td>\n",
       "      <td>5.053025e-04</td>\n",
       "      <td>0.995903</td>\n",
       "    </tr>\n",
       "    <tr>\n",
       "      <th>47</th>\n",
       "      <td>state_OH</td>\n",
       "      <td>4.899802e-04</td>\n",
       "      <td>0.996393</td>\n",
       "    </tr>\n",
       "    <tr>\n",
       "      <th>22</th>\n",
       "      <td>state_GA</td>\n",
       "      <td>4.543273e-04</td>\n",
       "      <td>0.996847</td>\n",
       "    </tr>\n",
       "    <tr>\n",
       "      <th>37</th>\n",
       "      <td>state_MS</td>\n",
       "      <td>4.505027e-04</td>\n",
       "      <td>0.997298</td>\n",
       "    </tr>\n",
       "    <tr>\n",
       "      <th>38</th>\n",
       "      <td>state_MT</td>\n",
       "      <td>3.658011e-04</td>\n",
       "      <td>0.997664</td>\n",
       "    </tr>\n",
       "    <tr>\n",
       "      <th>50</th>\n",
       "      <td>state_PA</td>\n",
       "      <td>3.151026e-04</td>\n",
       "      <td>0.997979</td>\n",
       "    </tr>\n",
       "    <tr>\n",
       "      <th>28</th>\n",
       "      <td>state_KS</td>\n",
       "      <td>3.085204e-04</td>\n",
       "      <td>0.998287</td>\n",
       "    </tr>\n",
       "    <tr>\n",
       "      <th>17</th>\n",
       "      <td>state_CO</td>\n",
       "      <td>3.071504e-04</td>\n",
       "      <td>0.998595</td>\n",
       "    </tr>\n",
       "    <tr>\n",
       "      <th>24</th>\n",
       "      <td>state_IA</td>\n",
       "      <td>2.523589e-04</td>\n",
       "      <td>0.998847</td>\n",
       "    </tr>\n",
       "    <tr>\n",
       "      <th>13</th>\n",
       "      <td>state_AL</td>\n",
       "      <td>2.181296e-04</td>\n",
       "      <td>0.999065</td>\n",
       "    </tr>\n",
       "    <tr>\n",
       "      <th>16</th>\n",
       "      <td>state_CA</td>\n",
       "      <td>2.093983e-04</td>\n",
       "      <td>0.999274</td>\n",
       "    </tr>\n",
       "    <tr>\n",
       "      <th>58</th>\n",
       "      <td>state_VT</td>\n",
       "      <td>1.695012e-04</td>\n",
       "      <td>0.999444</td>\n",
       "    </tr>\n",
       "    <tr>\n",
       "      <th>57</th>\n",
       "      <td>state_VA</td>\n",
       "      <td>1.523183e-04</td>\n",
       "      <td>0.999596</td>\n",
       "    </tr>\n",
       "    <tr>\n",
       "      <th>15</th>\n",
       "      <td>state_AZ</td>\n",
       "      <td>1.486729e-04</td>\n",
       "      <td>0.999745</td>\n",
       "    </tr>\n",
       "    <tr>\n",
       "      <th>30</th>\n",
       "      <td>state_LA</td>\n",
       "      <td>9.549646e-05</td>\n",
       "      <td>0.999840</td>\n",
       "    </tr>\n",
       "    <tr>\n",
       "      <th>25</th>\n",
       "      <td>state_ID</td>\n",
       "      <td>5.196640e-05</td>\n",
       "      <td>0.999892</td>\n",
       "    </tr>\n",
       "    <tr>\n",
       "      <th>20</th>\n",
       "      <td>state_DE</td>\n",
       "      <td>4.747909e-05</td>\n",
       "      <td>0.999940</td>\n",
       "    </tr>\n",
       "    <tr>\n",
       "      <th>48</th>\n",
       "      <td>state_OK</td>\n",
       "      <td>2.813436e-05</td>\n",
       "      <td>0.999968</td>\n",
       "    </tr>\n",
       "    <tr>\n",
       "      <th>45</th>\n",
       "      <td>state_NV</td>\n",
       "      <td>2.480478e-05</td>\n",
       "      <td>0.999993</td>\n",
       "    </tr>\n",
       "    <tr>\n",
       "      <th>35</th>\n",
       "      <td>state_MN</td>\n",
       "      <td>7.071722e-06</td>\n",
       "      <td>1.000000</td>\n",
       "    </tr>\n",
       "    <tr>\n",
       "      <th>44</th>\n",
       "      <td>state_NM</td>\n",
       "      <td>7.196560e-08</td>\n",
       "      <td>1.000000</td>\n",
       "    </tr>\n",
       "    <tr>\n",
       "      <th>56</th>\n",
       "      <td>state_UT</td>\n",
       "      <td>5.157470e-08</td>\n",
       "      <td>1.000000</td>\n",
       "    </tr>\n",
       "    <tr>\n",
       "      <th>29</th>\n",
       "      <td>state_KY</td>\n",
       "      <td>0.000000e+00</td>\n",
       "      <td>1.000000</td>\n",
       "    </tr>\n",
       "    <tr>\n",
       "      <th>18</th>\n",
       "      <td>state_CT</td>\n",
       "      <td>0.000000e+00</td>\n",
       "      <td>1.000000</td>\n",
       "    </tr>\n",
       "    <tr>\n",
       "      <th>21</th>\n",
       "      <td>state_FL</td>\n",
       "      <td>0.000000e+00</td>\n",
       "      <td>1.000000</td>\n",
       "    </tr>\n",
       "    <tr>\n",
       "      <th>54</th>\n",
       "      <td>state_TN</td>\n",
       "      <td>0.000000e+00</td>\n",
       "      <td>1.000000</td>\n",
       "    </tr>\n",
       "    <tr>\n",
       "      <th>40</th>\n",
       "      <td>state_ND</td>\n",
       "      <td>0.000000e+00</td>\n",
       "      <td>1.000000</td>\n",
       "    </tr>\n",
       "    <tr>\n",
       "      <th>36</th>\n",
       "      <td>state_MO</td>\n",
       "      <td>0.000000e+00</td>\n",
       "      <td>1.000000</td>\n",
       "    </tr>\n",
       "    <tr>\n",
       "      <th>59</th>\n",
       "      <td>state_WA</td>\n",
       "      <td>0.000000e+00</td>\n",
       "      <td>1.000000</td>\n",
       "    </tr>\n",
       "    <tr>\n",
       "      <th>60</th>\n",
       "      <td>state_WI</td>\n",
       "      <td>0.000000e+00</td>\n",
       "      <td>1.000000</td>\n",
       "    </tr>\n",
       "    <tr>\n",
       "      <th>61</th>\n",
       "      <td>state_WV</td>\n",
       "      <td>0.000000e+00</td>\n",
       "      <td>1.000000</td>\n",
       "    </tr>\n",
       "    <tr>\n",
       "      <th>62</th>\n",
       "      <td>state_WY</td>\n",
       "      <td>0.000000e+00</td>\n",
       "      <td>1.000000</td>\n",
       "    </tr>\n",
       "    <tr>\n",
       "      <th>32</th>\n",
       "      <td>state_MD</td>\n",
       "      <td>0.000000e+00</td>\n",
       "      <td>1.000000</td>\n",
       "    </tr>\n",
       "  </tbody>\n",
       "</table>\n",
       "</div>"
      ],
      "text/plain": [
       "                    feature    importance  cum_importance\n",
       "7         total_night_calls  6.173101e-03        0.966616\n",
       "5           total_eve_calls  5.361931e-03        0.971978\n",
       "0            account_length  5.186791e-03        0.977165\n",
       "43                 state_NJ  2.070559e-03        0.979236\n",
       "31                 state_MA  1.884425e-03        0.981120\n",
       "49                 state_OR  1.813565e-03        0.982934\n",
       "46                 state_NY  1.803572e-03        0.984737\n",
       "41                 state_NE  1.153850e-03        0.985891\n",
       "14                 state_AR  1.078706e-03        0.986970\n",
       "55                 state_TX  1.017691e-03        0.987987\n",
       "52                 state_SC  8.328245e-04        0.988820\n",
       "23                 state_HI  7.474152e-04        0.989568\n",
       "19                 state_DC  7.081663e-04        0.990276\n",
       "39                 state_NC  6.099862e-04        0.990886\n",
       "34                 state_MI  5.926686e-04        0.991478\n",
       "42                 state_NH  5.912931e-04        0.992070\n",
       "63  area_code_area_code_415  5.860204e-04        0.992656\n",
       "27                 state_IN  5.775348e-04        0.993233\n",
       "53                 state_SD  5.491461e-04        0.993782\n",
       "33                 state_ME  5.468158e-04        0.994329\n",
       "51                 state_RI  5.355732e-04        0.994865\n",
       "64  area_code_area_code_510  5.330188e-04        0.995398\n",
       "26                 state_IL  5.053025e-04        0.995903\n",
       "47                 state_OH  4.899802e-04        0.996393\n",
       "22                 state_GA  4.543273e-04        0.996847\n",
       "37                 state_MS  4.505027e-04        0.997298\n",
       "38                 state_MT  3.658011e-04        0.997664\n",
       "50                 state_PA  3.151026e-04        0.997979\n",
       "28                 state_KS  3.085204e-04        0.998287\n",
       "17                 state_CO  3.071504e-04        0.998595\n",
       "24                 state_IA  2.523589e-04        0.998847\n",
       "13                 state_AL  2.181296e-04        0.999065\n",
       "16                 state_CA  2.093983e-04        0.999274\n",
       "58                 state_VT  1.695012e-04        0.999444\n",
       "57                 state_VA  1.523183e-04        0.999596\n",
       "15                 state_AZ  1.486729e-04        0.999745\n",
       "30                 state_LA  9.549646e-05        0.999840\n",
       "25                 state_ID  5.196640e-05        0.999892\n",
       "20                 state_DE  4.747909e-05        0.999940\n",
       "48                 state_OK  2.813436e-05        0.999968\n",
       "45                 state_NV  2.480478e-05        0.999993\n",
       "35                 state_MN  7.071722e-06        1.000000\n",
       "44                 state_NM  7.196560e-08        1.000000\n",
       "56                 state_UT  5.157470e-08        1.000000\n",
       "29                 state_KY  0.000000e+00        1.000000\n",
       "18                 state_CT  0.000000e+00        1.000000\n",
       "21                 state_FL  0.000000e+00        1.000000\n",
       "54                 state_TN  0.000000e+00        1.000000\n",
       "40                 state_ND  0.000000e+00        1.000000\n",
       "36                 state_MO  0.000000e+00        1.000000\n",
       "59                 state_WA  0.000000e+00        1.000000\n",
       "60                 state_WI  0.000000e+00        1.000000\n",
       "61                 state_WV  0.000000e+00        1.000000\n",
       "62                 state_WY  0.000000e+00        1.000000\n",
       "32                 state_MD  0.000000e+00        1.000000"
      ]
     },
     "execution_count": 24,
     "metadata": {},
     "output_type": "execute_result"
    }
   ],
   "source": [
    "get_FI(gbc_best, X_train).tail(55)"
   ]
  },
  {
   "cell_type": "markdown",
   "id": "2caa36c7",
   "metadata": {},
   "source": [
    "**Since**, Area and state columns are not adding much importance to the dataset, we will remove them"
   ]
  },
  {
   "cell_type": "markdown",
   "id": "20137bda",
   "metadata": {},
   "source": [
    "#### Recursive Feature Elimination"
   ]
  },
  {
   "cell_type": "code",
   "execution_count": 25,
   "id": "1edbfc02",
   "metadata": {},
   "outputs": [
    {
     "name": "stdout",
     "output_type": "stream",
     "text": [
      "52\n",
      "(1667, 13)\n"
     ]
    }
   ],
   "source": [
    "state_area_var = [x for x in X_train.columns if 'area' in x or 'state' in x]\n",
    "print(len(state_area_var))\n",
    "\n",
    "X_train_rfe = X_train.drop(state_area_var, axis = 1)\n",
    "X_test_rfe = X_test.drop(state_area_var, axis = 1)\n",
    "print(X_test_rfe.shape)"
   ]
  },
  {
   "cell_type": "code",
   "execution_count": 26,
   "id": "3a8af599",
   "metadata": {},
   "outputs": [
    {
     "data": {
      "text/html": [
       "<div>\n",
       "<style scoped>\n",
       "    .dataframe tbody tr th:only-of-type {\n",
       "        vertical-align: middle;\n",
       "    }\n",
       "\n",
       "    .dataframe tbody tr th {\n",
       "        vertical-align: top;\n",
       "    }\n",
       "\n",
       "    .dataframe thead th {\n",
       "        text-align: right;\n",
       "    }\n",
       "</style>\n",
       "<table border=\"1\" class=\"dataframe\">\n",
       "  <thead>\n",
       "    <tr style=\"text-align: right;\">\n",
       "      <th></th>\n",
       "      <th>feature</th>\n",
       "      <th>importance</th>\n",
       "      <th>cum_importance</th>\n",
       "    </tr>\n",
       "  </thead>\n",
       "  <tbody>\n",
       "    <tr>\n",
       "      <th>2</th>\n",
       "      <td>total_day_minutes</td>\n",
       "      <td>0.269874</td>\n",
       "      <td>0.269874</td>\n",
       "    </tr>\n",
       "    <tr>\n",
       "      <th>10</th>\n",
       "      <td>number_customer_service_calls</td>\n",
       "      <td>0.159555</td>\n",
       "      <td>0.429429</td>\n",
       "    </tr>\n",
       "    <tr>\n",
       "      <th>4</th>\n",
       "      <td>total_eve_minutes</td>\n",
       "      <td>0.135305</td>\n",
       "      <td>0.564734</td>\n",
       "    </tr>\n",
       "    <tr>\n",
       "      <th>8</th>\n",
       "      <td>total_intl_minutes</td>\n",
       "      <td>0.106098</td>\n",
       "      <td>0.670833</td>\n",
       "    </tr>\n",
       "    <tr>\n",
       "      <th>11</th>\n",
       "      <td>international_plan_num</td>\n",
       "      <td>0.086014</td>\n",
       "      <td>0.756847</td>\n",
       "    </tr>\n",
       "    <tr>\n",
       "      <th>1</th>\n",
       "      <td>number_vmail_messages</td>\n",
       "      <td>0.082980</td>\n",
       "      <td>0.839827</td>\n",
       "    </tr>\n",
       "    <tr>\n",
       "      <th>9</th>\n",
       "      <td>total_intl_calls</td>\n",
       "      <td>0.080857</td>\n",
       "      <td>0.920684</td>\n",
       "    </tr>\n",
       "    <tr>\n",
       "      <th>12</th>\n",
       "      <td>charge_per_minute</td>\n",
       "      <td>0.016792</td>\n",
       "      <td>0.937476</td>\n",
       "    </tr>\n",
       "    <tr>\n",
       "      <th>6</th>\n",
       "      <td>total_night_minutes</td>\n",
       "      <td>0.016115</td>\n",
       "      <td>0.953591</td>\n",
       "    </tr>\n",
       "    <tr>\n",
       "      <th>3</th>\n",
       "      <td>total_day_calls</td>\n",
       "      <td>0.006852</td>\n",
       "      <td>0.960443</td>\n",
       "    </tr>\n",
       "    <tr>\n",
       "      <th>7</th>\n",
       "      <td>total_night_calls</td>\n",
       "      <td>0.006173</td>\n",
       "      <td>0.966616</td>\n",
       "    </tr>\n",
       "    <tr>\n",
       "      <th>5</th>\n",
       "      <td>total_eve_calls</td>\n",
       "      <td>0.005362</td>\n",
       "      <td>0.971978</td>\n",
       "    </tr>\n",
       "    <tr>\n",
       "      <th>0</th>\n",
       "      <td>account_length</td>\n",
       "      <td>0.005187</td>\n",
       "      <td>0.977165</td>\n",
       "    </tr>\n",
       "  </tbody>\n",
       "</table>\n",
       "</div>"
      ],
      "text/plain": [
       "                          feature  importance  cum_importance\n",
       "2               total_day_minutes    0.269874        0.269874\n",
       "10  number_customer_service_calls    0.159555        0.429429\n",
       "4               total_eve_minutes    0.135305        0.564734\n",
       "8              total_intl_minutes    0.106098        0.670833\n",
       "11         international_plan_num    0.086014        0.756847\n",
       "1           number_vmail_messages    0.082980        0.839827\n",
       "9                total_intl_calls    0.080857        0.920684\n",
       "12              charge_per_minute    0.016792        0.937476\n",
       "6             total_night_minutes    0.016115        0.953591\n",
       "3                 total_day_calls    0.006852        0.960443\n",
       "7               total_night_calls    0.006173        0.966616\n",
       "5                 total_eve_calls    0.005362        0.971978\n",
       "0                  account_length    0.005187        0.977165"
      ]
     },
     "execution_count": 26,
     "metadata": {},
     "output_type": "execute_result"
    }
   ],
   "source": [
    "get_FI(gbc_best, X_test_rfe)"
   ]
  },
  {
   "cell_type": "markdown",
   "id": "b125ded8",
   "metadata": {},
   "source": [
    "#### Training GBDT model on reduced feature set"
   ]
  },
  {
   "cell_type": "code",
   "execution_count": 27,
   "id": "c6a89db7",
   "metadata": {},
   "outputs": [
    {
     "name": "stdout",
     "output_type": "stream",
     "text": [
      "GradientBoostingClassifier(learning_rate=0.05, max_features='auto',\n",
      "                           n_estimators=500, random_state=42)\n"
     ]
    }
   ],
   "source": [
    "# Gradient Boosting on reduced feature set\n",
    "gbr=GradientBoostingClassifier(random_state=42)\n",
    "param_grid = { \n",
    "'n_estimators': [50, 100, 500], 'max_features': ['auto'], 'learning_rate': [0.01, 0.05, 0.1, 0.2]\n",
    "}\n",
    "CV_gbr = GridSearchCV(estimator=gbr, param_grid=param_grid, cv= 5)\n",
    "CV_gbr.fit(X_train_rfe, Y_train)\n",
    "gbr_best_rfe = CV_gbr.best_estimator_\n",
    "print(gbr_best_rfe)"
   ]
  },
  {
   "cell_type": "markdown",
   "id": "c4909ac7",
   "metadata": {},
   "source": [
    "#### Testing Model on Reduced feature set"
   ]
  },
  {
   "cell_type": "code",
   "execution_count": 28,
   "id": "c38cfe80",
   "metadata": {},
   "outputs": [
    {
     "name": "stdout",
     "output_type": "stream",
     "text": [
      "count    1667.000000\n",
      "mean        0.127592\n",
      "std         0.260729\n",
      "min         0.001585\n",
      "25%         0.015223\n",
      "50%         0.024144\n",
      "75%         0.052756\n",
      "max         0.999968\n",
      "dtype: float64\n",
      "****************************************\n",
      "New Score\n",
      "****************************************\n",
      "92.46268933768934\n",
      "85.31791580776711\n",
      "****************************************\n",
      "Old Score\n",
      "****************************************\n",
      "92.16%\n",
      "85.05%\n"
     ]
    }
   ],
   "source": [
    "test_score_rfe = gbr_best_rfe.predict_proba(X_test_rfe)[:, 1]\n",
    "print(pd.Series(test_score_rfe).describe())\n",
    "roc_auc_gbm = (roc_auc_score(Y_test, test_score_rfe, average='macro'))\n",
    "avg_pre_gbm = average_precision_score(Y_test, test_score_rfe)\n",
    "print('*'*40)\n",
    "print('New Score')\n",
    "print('*'*40)\n",
    "print (roc_auc_gbm*100)\n",
    "print (avg_pre_gbm*100)\n",
    "print('*'*40)\n",
    "print('Old Score')\n",
    "print('*'*40)\n",
    "print('92.16%')\n",
    "print('85.05%')"
   ]
  },
  {
   "cell_type": "code",
   "execution_count": 29,
   "id": "e9b07cd8",
   "metadata": {},
   "outputs": [
    {
     "name": "stdout",
     "output_type": "stream",
     "text": [
      "              precision    recall  f1-score   support\n",
      "\n",
      "           0       0.96      0.99      0.97      1443\n",
      "           1       0.92      0.71      0.80       224\n",
      "\n",
      "    accuracy                           0.95      1667\n",
      "   macro avg       0.94      0.85      0.89      1667\n",
      "weighted avg       0.95      0.95      0.95      1667\n",
      "\n"
     ]
    }
   ],
   "source": [
    "print(classification_report(Y_test, (test_score_rfe >= 0.5)))"
   ]
  },
  {
   "cell_type": "markdown",
   "id": "8ec3bde5",
   "metadata": {},
   "source": [
    "#### Getting important features for reduced set"
   ]
  },
  {
   "cell_type": "code",
   "execution_count": 30,
   "id": "c7b72ae4",
   "metadata": {},
   "outputs": [
    {
     "name": "stdout",
     "output_type": "stream",
     "text": [
      "                          feature  importance  cum_importance\n",
      "2               total_day_minutes    0.272470        0.272470\n",
      "10  number_customer_service_calls    0.164502        0.436973\n",
      "4               total_eve_minutes    0.142622        0.579594\n",
      "8              total_intl_minutes    0.103509        0.683103\n",
      "11         international_plan_num    0.086615        0.769718\n",
      "1           number_vmail_messages    0.085081        0.854799\n",
      "9                total_intl_calls    0.079327        0.934126\n",
      "12              charge_per_minute    0.020380        0.954506\n",
      "6             total_night_minutes    0.018011        0.972518\n",
      "5                 total_eve_calls    0.008066        0.980584\n",
      "3                 total_day_calls    0.007211        0.987795\n",
      "7               total_night_calls    0.006141        0.993935\n",
      "0                  account_length    0.006065        1.000000\n"
     ]
    }
   ],
   "source": [
    "FI = get_FI(gbr_best_rfe, X_train_rfe)\n",
    "print(FI)"
   ]
  },
  {
   "cell_type": "markdown",
   "id": "1a2fbbf6",
   "metadata": {},
   "source": [
    "# Key Drivers of Churn"
   ]
  },
  {
   "cell_type": "code",
   "execution_count": 31,
   "id": "1cc40a51",
   "metadata": {},
   "outputs": [
    {
     "data": {
      "image/png": "[encoded data removed]",
      "text/plain": [
       "<Figure size 720x360 with 1 Axes>"
      ]
     },
     "metadata": {
      "needs_background": "light"
     },
     "output_type": "display_data"
    }
   ],
   "source": [
    "plt.figure(figsize=(10,5))\n",
    "vals = list(FI['importance'])\n",
    "plt.barh(FI['feature'], FI['importance'])\n",
    "plt.title('Importance of Different Variables')\n",
    "plt.gca().xaxis.grid(linestyle = '--')"
   ]
  },
  {
   "cell_type": "markdown",
   "id": "6725e7df",
   "metadata": {},
   "source": [
    "# Model Implementation"
   ]
  },
  {
   "cell_type": "markdown",
   "id": "113edd81",
   "metadata": {},
   "source": [
    "Python pickle module is used for serializing and de-serializing a Python object structure. Any object in Python can be pickled so that it can be saved on disk.<br>What pickle does is that it “serializes” the object first before writing it to file. Pickling is a way to convert a python object (list, dict, etc.) into a character stream. The idea is that this character stream contains all the information necessary to reconstruct the object in another python script."
   ]
  },
  {
   "cell_type": "code",
   "execution_count": 32,
   "id": "1cf91611",
   "metadata": {},
   "outputs": [],
   "source": [
    "#Saving the required files\n",
    "import pickle\n",
    "model_columns = list(X_train_rfe.columns)\n",
    "pickle.dump(gbr_best_rfe, open('model.pkl', 'wb'))\n",
    "pickle.dump(model_columns, open('model_columns.pkl', 'wb'))"
   ]
  }
 ],
 "metadata": {
  "kernelspec": {
   "display_name": "Python 3 (ipykernel)",
   "language": "python",
   "name": "python3"
  },
  "language_info": {
   "codemirror_mode": {
    "name": "ipython",
    "version": 3
   },
   "file_extension": ".py",
   "mimetype": "text/x-python",
   "name": "python",
   "nbconvert_exporter": "python",
   "pygments_lexer": "ipython3",
   "version": "3.9.7"
  }
 },
 "nbformat": 4,
 "nbformat_minor": 5
}
